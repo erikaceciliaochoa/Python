{
 "cells": [
  {
   "cell_type": "markdown",
   "id": "d0034b5a",
   "metadata": {},
   "source": [
    "# Proyecto 01"
   ]
  },
  {
   "cell_type": "markdown",
   "id": "f2369bb1",
   "metadata": {},
   "source": [
    "## Mostrando info al usuario"
   ]
  },
  {
   "cell_type": "code",
   "execution_count": 1,
   "id": "57e6e6cd",
   "metadata": {},
   "outputs": [
    {
     "name": "stdout",
     "output_type": "stream",
     "text": [
      "Hola mundo\n"
     ]
    }
   ],
   "source": [
    "print(\"Hola mundo\")"
   ]
  },
  {
   "cell_type": "markdown",
   "id": "c7b884f5",
   "metadata": {},
   "source": [
    "## Recibir datos del usuario"
   ]
  },
  {
   "cell_type": "code",
   "execution_count": 2,
   "id": "541269ca",
   "metadata": {},
   "outputs": [
    {
     "data": {
      "text/plain": [
       "'Python'"
      ]
     },
     "execution_count": 2,
     "metadata": {},
     "output_type": "execute_result"
    }
   ],
   "source": [
    "input(\"Nombre: \")\n",
    "input(\"Cual es el mejor lenguaje de programación del mundo: \")"
   ]
  },
  {
   "cell_type": "markdown",
   "id": "35e955e4",
   "metadata": {},
   "source": [
    "## Almacenando datos en variables"
   ]
  },
  {
   "cell_type": "code",
   "execution_count": 3,
   "id": "c973adf5",
   "metadata": {},
   "outputs": [],
   "source": [
    "proyecto = \"Mi primer proyecto con Python\"\n",
    "numero = 10"
   ]
  },
  {
   "cell_type": "markdown",
   "id": "aac30506",
   "metadata": {},
   "source": [
    "## Mezclando conceptos aprendidos"
   ]
  },
  {
   "cell_type": "code",
   "execution_count": 4,
   "id": "5a83870d",
   "metadata": {},
   "outputs": [],
   "source": [
    "proyecto = input(\"Digita la descripcion del proyecto: \")\n",
    "horas_estimadas = input(\"Digita la cantidadd de horas estimadas: \")\n",
    "valor_hora = input(\"Digita el valor de la hora trabajada: \")\n",
    "tiempo_estimado = input(\"Digita el pazo estimado: \")"
   ]
  },
  {
   "cell_type": "code",
   "execution_count": 5,
   "id": "1e085a36",
   "metadata": {},
   "outputs": [
    {
     "name": "stdout",
     "output_type": "stream",
     "text": [
      "Mi primer proyecto con Python\n"
     ]
    }
   ],
   "source": [
    "print(proyecto)"
   ]
  },
  {
   "cell_type": "markdown",
   "id": "69408fe9",
   "metadata": {},
   "source": [
    "## Cálculos con python"
   ]
  },
  {
   "cell_type": "code",
   "execution_count": 6,
   "id": "1ebd8537",
   "metadata": {},
   "outputs": [
    {
     "name": "stdout",
     "output_type": "stream",
     "text": [
      "20\n",
      "0\n",
      "100\n",
      "5.0\n"
     ]
    }
   ],
   "source": [
    "print(10 + 10)\n",
    "print(10 - 10)\n",
    "print(10 * 10)\n",
    "print(10 / 2)"
   ]
  },
  {
   "cell_type": "code",
   "execution_count": 1,
   "id": "2bc35d8d",
   "metadata": {},
   "outputs": [
    {
     "name": "stdout",
     "output_type": "stream",
     "text": [
      "<class 'int'>\n"
     ]
    }
   ],
   "source": [
    "x = 10\n",
    "print(type(x))  # <class 'int'>"
   ]
  },
  {
   "cell_type": "code",
   "execution_count": 2,
   "id": "fd5ce4a9",
   "metadata": {},
   "outputs": [
    {
     "data": {
      "text/plain": [
       "'10'"
      ]
     },
     "execution_count": 2,
     "metadata": {},
     "output_type": "execute_result"
    }
   ],
   "source": [
    "str(10)"
   ]
  },
  {
   "cell_type": "code",
   "execution_count": 3,
   "id": "9200ae46",
   "metadata": {},
   "outputs": [
    {
     "data": {
      "text/plain": [
       "10"
      ]
     },
     "execution_count": 3,
     "metadata": {},
     "output_type": "execute_result"
    }
   ],
   "source": [
    "int(\"10\")"
   ]
  },
  {
   "cell_type": "code",
   "execution_count": 4,
   "id": "61af4669",
   "metadata": {},
   "outputs": [
    {
     "data": {
      "text/plain": [
       "5.2"
      ]
     },
     "execution_count": 4,
     "metadata": {},
     "output_type": "execute_result"
    }
   ],
   "source": [
    "float(\"5.2\")"
   ]
  },
  {
   "cell_type": "markdown",
   "id": "0d721f98",
   "metadata": {},
   "source": [
    "## Calculando el valor total del proyecto"
   ]
  },
  {
   "cell_type": "code",
   "execution_count": 7,
   "id": "e4c451d5",
   "metadata": {},
   "outputs": [],
   "source": [
    "valor_total = int(horas_estimadas) * int(valor_hora)"
   ]
  },
  {
   "cell_type": "code",
   "execution_count": 8,
   "id": "90c1334c",
   "metadata": {},
   "outputs": [
    {
     "name": "stdout",
     "output_type": "stream",
     "text": [
      "10800\n"
     ]
    }
   ],
   "source": [
    "print(valor_total)"
   ]
  },
  {
   "cell_type": "markdown",
   "id": "2495f60b",
   "metadata": {},
   "source": [
    "## Generando archivo pdf del presupuesto"
   ]
  },
  {
   "cell_type": "code",
   "execution_count": 19,
   "id": "3a4bd6f4",
   "metadata": {},
   "outputs": [
    {
     "name": "stdout",
     "output_type": "stream",
     "text": [
      "Requirement already satisfied: fpdf in c:\\users\\hp\\appdata\\local\\programs\\python\\python313\\lib\\site-packages (1.7.2)\n"
     ]
    },
    {
     "name": "stderr",
     "output_type": "stream",
     "text": [
      "\n",
      "[notice] A new release of pip is available: 25.0.1 -> 25.1.1\n",
      "[notice] To update, run: python.exe -m pip install --upgrade pip\n"
     ]
    }
   ],
   "source": [
    "! pip install fpdf"
   ]
  },
  {
   "cell_type": "code",
   "execution_count": 20,
   "id": "6e0d8a4f",
   "metadata": {},
   "outputs": [],
   "source": [
    "from fpdf import FPDF"
   ]
  },
  {
   "cell_type": "code",
   "execution_count": 21,
   "id": "eef1553e",
   "metadata": {},
   "outputs": [],
   "source": [
    "pdf = FPDF()"
   ]
  },
  {
   "cell_type": "code",
   "execution_count": 22,
   "id": "5e18106e",
   "metadata": {},
   "outputs": [
    {
     "name": "stdout",
     "output_type": "stream",
     "text": [
      "Presupuesto generado con éxito!!!\n"
     ]
    }
   ],
   "source": [
    "pdf.add_page()\n",
    "pdf.set_font(\"Arial\")\n",
    "\n",
    "pdf.image(\"template.png\", 0, 0)\n",
    "\n",
    "pdf.text(115, 145, proyecto)\n",
    "pdf.text(115, 160, horas_estimadas)\n",
    "pdf.text(115, 175, valor_hora)\n",
    "pdf.text(115, 190, tiempo_estimado)\n",
    "pdf.text(115, 205, str(valor_total))\n",
    "\n",
    "pdf.output(\"presupuesto.pdf\")\n",
    "print(\"Presupuesto generado con éxito!!!\")"
   ]
  }
 ],
 "metadata": {
  "kernelspec": {
   "display_name": "Python 3",
   "language": "python",
   "name": "python3"
  },
  "language_info": {
   "codemirror_mode": {
    "name": "ipython",
    "version": 3
   },
   "file_extension": ".py",
   "mimetype": "text/x-python",
   "name": "python",
   "nbconvert_exporter": "python",
   "pygments_lexer": "ipython3",
   "version": "3.13.3"
  }
 },
 "nbformat": 4,
 "nbformat_minor": 5
}
