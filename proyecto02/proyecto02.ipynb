{
 "cells": [
  {
   "cell_type": "markdown",
   "id": "35a9ab9c",
   "metadata": {},
   "source": [
    "# Proyecto 02"
   ]
  },
  {
   "cell_type": "markdown",
   "id": "52820597",
   "metadata": {},
   "source": [
    "## Buscar datos de la acción automáticamente"
   ]
  },
  {
   "cell_type": "code",
   "execution_count": 1,
   "id": "58088b8e",
   "metadata": {},
   "outputs": [
    {
     "name": "stdout",
     "output_type": "stream",
     "text": [
      "Collecting yfinance\n",
      "  Using cached yfinance-0.2.61-py2.py3-none-any.whl.metadata (5.8 kB)\n",
      "Collecting pandas>=1.3.0 (from yfinance)\n",
      "  Using cached pandas-2.2.3-cp313-cp313-win_amd64.whl.metadata (19 kB)\n",
      "Requirement already satisfied: numpy>=1.16.5 in c:\\users\\hp\\appdata\\local\\programs\\python\\python313\\lib\\site-packages (from yfinance) (2.2.5)\n",
      "Requirement already satisfied: requests>=2.31 in c:\\users\\hp\\appdata\\local\\programs\\python\\python313\\lib\\site-packages (from yfinance) (2.32.3)\n",
      "Collecting multitasking>=0.0.7 (from yfinance)\n",
      "  Using cached multitasking-0.0.11-py3-none-any.whl.metadata (5.5 kB)\n",
      "Requirement already satisfied: platformdirs>=2.0.0 in c:\\users\\hp\\appdata\\local\\programs\\python\\python313\\lib\\site-packages (from yfinance) (4.3.8)\n",
      "Collecting pytz>=2022.5 (from yfinance)\n",
      "  Using cached pytz-2025.2-py2.py3-none-any.whl.metadata (22 kB)\n",
      "Collecting frozendict>=2.3.4 (from yfinance)\n",
      "  Using cached frozendict-2.4.6-py313-none-any.whl.metadata (23 kB)\n",
      "Collecting peewee>=3.16.2 (from yfinance)\n",
      "  Using cached peewee-3.18.1-py3-none-any.whl\n",
      "Requirement already satisfied: beautifulsoup4>=4.11.1 in c:\\users\\hp\\appdata\\local\\programs\\python\\python313\\lib\\site-packages (from yfinance) (4.13.4)\n",
      "Collecting curl_cffi>=0.7 (from yfinance)\n",
      "  Downloading curl_cffi-0.11.1-cp39-abi3-win_amd64.whl.metadata (15 kB)\n",
      "Collecting protobuf>=3.19.0 (from yfinance)\n",
      "  Downloading protobuf-6.31.0-cp310-abi3-win_amd64.whl.metadata (593 bytes)\n",
      "Collecting websockets>=13.0 (from yfinance)\n",
      "  Using cached websockets-15.0.1-cp313-cp313-win_amd64.whl.metadata (7.0 kB)\n",
      "Requirement already satisfied: soupsieve>1.2 in c:\\users\\hp\\appdata\\local\\programs\\python\\python313\\lib\\site-packages (from beautifulsoup4>=4.11.1->yfinance) (2.7)\n",
      "Requirement already satisfied: typing-extensions>=4.0.0 in c:\\users\\hp\\appdata\\local\\programs\\python\\python313\\lib\\site-packages (from beautifulsoup4>=4.11.1->yfinance) (4.13.2)\n",
      "Requirement already satisfied: cffi>=1.12.0 in c:\\users\\hp\\appdata\\local\\programs\\python\\python313\\lib\\site-packages (from curl_cffi>=0.7->yfinance) (1.17.1)\n",
      "Requirement already satisfied: certifi>=2024.2.2 in c:\\users\\hp\\appdata\\local\\programs\\python\\python313\\lib\\site-packages (from curl_cffi>=0.7->yfinance) (2025.4.26)\n",
      "Requirement already satisfied: pycparser in c:\\users\\hp\\appdata\\local\\programs\\python\\python313\\lib\\site-packages (from cffi>=1.12.0->curl_cffi>=0.7->yfinance) (2.22)\n",
      "Requirement already satisfied: python-dateutil>=2.8.2 in c:\\users\\hp\\appdata\\local\\programs\\python\\python313\\lib\\site-packages (from pandas>=1.3.0->yfinance) (2.9.0.post0)\n",
      "Collecting tzdata>=2022.7 (from pandas>=1.3.0->yfinance)\n",
      "  Using cached tzdata-2025.2-py2.py3-none-any.whl.metadata (1.4 kB)\n",
      "Requirement already satisfied: six>=1.5 in c:\\users\\hp\\appdata\\local\\programs\\python\\python313\\lib\\site-packages (from python-dateutil>=2.8.2->pandas>=1.3.0->yfinance) (1.17.0)\n",
      "Requirement already satisfied: charset-normalizer<4,>=2 in c:\\users\\hp\\appdata\\local\\programs\\python\\python313\\lib\\site-packages (from requests>=2.31->yfinance) (3.4.2)\n",
      "Requirement already satisfied: idna<4,>=2.5 in c:\\users\\hp\\appdata\\local\\programs\\python\\python313\\lib\\site-packages (from requests>=2.31->yfinance) (3.10)\n",
      "Requirement already satisfied: urllib3<3,>=1.21.1 in c:\\users\\hp\\appdata\\local\\programs\\python\\python313\\lib\\site-packages (from requests>=2.31->yfinance) (2.4.0)\n",
      "Using cached yfinance-0.2.61-py2.py3-none-any.whl (117 kB)\n",
      "Downloading curl_cffi-0.11.1-cp39-abi3-win_amd64.whl (1.4 MB)\n",
      "   ---------------------------------------- 0.0/1.4 MB ? eta -:--:--\n",
      "   ---------------------- ----------------- 0.8/1.4 MB 5.2 MB/s eta 0:00:01\n",
      "   ---------------------------------------- 1.4/1.4 MB 4.3 MB/s eta 0:00:00\n",
      "Using cached frozendict-2.4.6-py313-none-any.whl (16 kB)\n",
      "Using cached multitasking-0.0.11-py3-none-any.whl (8.5 kB)\n",
      "Using cached pandas-2.2.3-cp313-cp313-win_amd64.whl (11.5 MB)\n",
      "Downloading protobuf-6.31.0-cp310-abi3-win_amd64.whl (435 kB)\n",
      "Using cached pytz-2025.2-py2.py3-none-any.whl (509 kB)\n",
      "Using cached tzdata-2025.2-py2.py3-none-any.whl (347 kB)\n",
      "Using cached websockets-15.0.1-cp313-cp313-win_amd64.whl (176 kB)\n",
      "Installing collected packages: pytz, peewee, multitasking, websockets, tzdata, protobuf, frozendict, pandas, curl_cffi, yfinance\n",
      "\n",
      "   ----------------------------------------  0/10 [pytz]\n",
      "   ----------------------------------------  0/10 [pytz]\n",
      "   ----------------------------------------  0/10 [pytz]\n",
      "   ---- -----------------------------------  1/10 [peewee]\n",
      "   ---- -----------------------------------  1/10 [peewee]\n",
      "   ------------ ---------------------------  3/10 [websockets]\n",
      "   ------------ ---------------------------  3/10 [websockets]\n",
      "   ------------ ---------------------------  3/10 [websockets]\n",
      "   ---------------- -----------------------  4/10 [tzdata]\n",
      "   ---------------- -----------------------  4/10 [tzdata]\n",
      "   ---------------- -----------------------  4/10 [tzdata]\n",
      "   ---------------- -----------------------  4/10 [tzdata]\n",
      "   -------------------- -------------------  5/10 [protobuf]\n",
      "   -------------------- -------------------  5/10 [protobuf]\n",
      "   -------------------- -------------------  5/10 [protobuf]\n",
      "   -------------------- -------------------  5/10 [protobuf]\n",
      "   ---------------------------- -----------  7/10 [pandas]\n",
      "   ---------------------------- -----------  7/10 [pandas]\n",
      "   ---------------------------- -----------  7/10 [pandas]\n",
      "   ---------------------------- -----------  7/10 [pandas]\n",
      "   ---------------------------- -----------  7/10 [pandas]\n",
      "   ---------------------------- -----------  7/10 [pandas]\n",
      "   ---------------------------- -----------  7/10 [pandas]\n",
      "   ---------------------------- -----------  7/10 [pandas]\n",
      "   ---------------------------- -----------  7/10 [pandas]\n",
      "   ---------------------------- -----------  7/10 [pandas]\n",
      "   ---------------------------- -----------  7/10 [pandas]\n",
      "   ---------------------------- -----------  7/10 [pandas]\n",
      "   ---------------------------- -----------  7/10 [pandas]\n",
      "   ---------------------------- -----------  7/10 [pandas]\n",
      "   ---------------------------- -----------  7/10 [pandas]\n",
      "   ---------------------------- -----------  7/10 [pandas]\n",
      "   ---------------------------- -----------  7/10 [pandas]\n",
      "   ---------------------------- -----------  7/10 [pandas]\n",
      "   ---------------------------- -----------  7/10 [pandas]\n",
      "   ---------------------------- -----------  7/10 [pandas]\n",
      "   ---------------------------- -----------  7/10 [pandas]\n",
      "   ---------------------------- -----------  7/10 [pandas]\n",
      "   ---------------------------- -----------  7/10 [pandas]\n",
      "   ---------------------------- -----------  7/10 [pandas]\n",
      "   ---------------------------- -----------  7/10 [pandas]\n",
      "   ---------------------------- -----------  7/10 [pandas]\n",
      "   ---------------------------- -----------  7/10 [pandas]\n",
      "   ---------------------------- -----------  7/10 [pandas]\n",
      "   ---------------------------- -----------  7/10 [pandas]\n",
      "   ---------------------------- -----------  7/10 [pandas]\n",
      "   ---------------------------- -----------  7/10 [pandas]\n",
      "   ---------------------------- -----------  7/10 [pandas]\n",
      "   ---------------------------- -----------  7/10 [pandas]\n",
      "   ---------------------------- -----------  7/10 [pandas]\n",
      "   ---------------------------- -----------  7/10 [pandas]\n",
      "   ---------------------------- -----------  7/10 [pandas]\n",
      "   ---------------------------- -----------  7/10 [pandas]\n",
      "   ---------------------------- -----------  7/10 [pandas]\n",
      "   ---------------------------- -----------  7/10 [pandas]\n",
      "   ---------------------------- -----------  7/10 [pandas]\n",
      "   ---------------------------- -----------  7/10 [pandas]\n",
      "   ---------------------------- -----------  7/10 [pandas]\n",
      "   ---------------------------- -----------  7/10 [pandas]\n",
      "   ---------------------------- -----------  7/10 [pandas]\n",
      "   ---------------------------- -----------  7/10 [pandas]\n",
      "   ---------------------------- -----------  7/10 [pandas]\n",
      "   ---------------------------- -----------  7/10 [pandas]\n",
      "   ---------------------------- -----------  7/10 [pandas]\n",
      "   ---------------------------- -----------  7/10 [pandas]\n",
      "   ---------------------------- -----------  7/10 [pandas]\n",
      "   ---------------------------- -----------  7/10 [pandas]\n",
      "   ---------------------------- -----------  7/10 [pandas]\n",
      "   ---------------------------- -----------  7/10 [pandas]\n",
      "   ---------------------------- -----------  7/10 [pandas]\n",
      "   ---------------------------- -----------  7/10 [pandas]\n",
      "   ---------------------------- -----------  7/10 [pandas]\n",
      "   ---------------------------- -----------  7/10 [pandas]\n",
      "   ---------------------------- -----------  7/10 [pandas]\n",
      "   ---------------------------- -----------  7/10 [pandas]\n",
      "   ---------------------------- -----------  7/10 [pandas]\n",
      "   ---------------------------- -----------  7/10 [pandas]\n",
      "   ---------------------------- -----------  7/10 [pandas]\n",
      "   ---------------------------- -----------  7/10 [pandas]\n",
      "   ---------------------------- -----------  7/10 [pandas]\n",
      "   ---------------------------- -----------  7/10 [pandas]\n",
      "   ---------------------------- -----------  7/10 [pandas]\n",
      "   ---------------------------- -----------  7/10 [pandas]\n",
      "   ---------------------------- -----------  7/10 [pandas]\n",
      "   ---------------------------- -----------  7/10 [pandas]\n",
      "   ---------------------------- -----------  7/10 [pandas]\n",
      "   ---------------------------- -----------  7/10 [pandas]\n",
      "   ---------------------------- -----------  7/10 [pandas]\n",
      "   ---------------------------- -----------  7/10 [pandas]\n",
      "   ---------------------------- -----------  7/10 [pandas]\n",
      "   ---------------------------- -----------  7/10 [pandas]\n",
      "   ---------------------------- -----------  7/10 [pandas]\n",
      "   ---------------------------- -----------  7/10 [pandas]\n",
      "   ---------------------------- -----------  7/10 [pandas]\n",
      "   ---------------------------- -----------  7/10 [pandas]\n",
      "   ---------------------------- -----------  7/10 [pandas]\n",
      "   ---------------------------- -----------  7/10 [pandas]\n",
      "   ---------------------------- -----------  7/10 [pandas]\n",
      "   ---------------------------- -----------  7/10 [pandas]\n",
      "   ---------------------------- -----------  7/10 [pandas]\n",
      "   ---------------------------- -----------  7/10 [pandas]\n",
      "   ---------------------------- -----------  7/10 [pandas]\n",
      "   ---------------------------- -----------  7/10 [pandas]\n",
      "   ---------------------------- -----------  7/10 [pandas]\n",
      "   ---------------------------- -----------  7/10 [pandas]\n",
      "   ---------------------------- -----------  7/10 [pandas]\n",
      "   ---------------------------- -----------  7/10 [pandas]\n",
      "   ---------------------------- -----------  7/10 [pandas]\n",
      "   ---------------------------- -----------  7/10 [pandas]\n",
      "   -------------------------------- -------  8/10 [curl_cffi]\n",
      "   ------------------------------------ ---  9/10 [yfinance]\n",
      "   ------------------------------------ ---  9/10 [yfinance]\n",
      "   ------------------------------------ ---  9/10 [yfinance]\n",
      "   ---------------------------------------- 10/10 [yfinance]\n",
      "\n",
      "Successfully installed curl_cffi-0.11.1 frozendict-2.4.6 multitasking-0.0.11 pandas-2.2.3 peewee-3.18.1 protobuf-6.31.0 pytz-2025.2 tzdata-2025.2 websockets-15.0.1 yfinance-0.2.61\n"
     ]
    }
   ],
   "source": [
    "! pip install yfinance"
   ]
  },
  {
   "cell_type": "code",
   "execution_count": 4,
   "id": "3019a255",
   "metadata": {},
   "outputs": [
    {
     "name": "stdout",
     "output_type": "stream",
     "text": [
      "Requirement already satisfied: matplotlib in c:\\users\\hp\\appdata\\local\\programs\\python\\python313\\lib\\site-packages (3.10.3)\n",
      "Requirement already satisfied: contourpy>=1.0.1 in c:\\users\\hp\\appdata\\local\\programs\\python\\python313\\lib\\site-packages (from matplotlib) (1.3.2)\n",
      "Requirement already satisfied: cycler>=0.10 in c:\\users\\hp\\appdata\\local\\programs\\python\\python313\\lib\\site-packages (from matplotlib) (0.12.1)\n",
      "Requirement already satisfied: fonttools>=4.22.0 in c:\\users\\hp\\appdata\\local\\programs\\python\\python313\\lib\\site-packages (from matplotlib) (4.58.0)\n",
      "Requirement already satisfied: kiwisolver>=1.3.1 in c:\\users\\hp\\appdata\\local\\programs\\python\\python313\\lib\\site-packages (from matplotlib) (1.4.8)\n",
      "Requirement already satisfied: numpy>=1.23 in c:\\users\\hp\\appdata\\local\\programs\\python\\python313\\lib\\site-packages (from matplotlib) (2.2.5)\n",
      "Requirement already satisfied: packaging>=20.0 in c:\\users\\hp\\appdata\\local\\programs\\python\\python313\\lib\\site-packages (from matplotlib) (25.0)\n",
      "Requirement already satisfied: pillow>=8 in c:\\users\\hp\\appdata\\local\\programs\\python\\python313\\lib\\site-packages (from matplotlib) (11.2.1)\n",
      "Requirement already satisfied: pyparsing>=2.3.1 in c:\\users\\hp\\appdata\\local\\programs\\python\\python313\\lib\\site-packages (from matplotlib) (3.2.3)\n",
      "Requirement already satisfied: python-dateutil>=2.7 in c:\\users\\hp\\appdata\\local\\programs\\python\\python313\\lib\\site-packages (from matplotlib) (2.9.0.post0)\n",
      "Requirement already satisfied: six>=1.5 in c:\\users\\hp\\appdata\\local\\programs\\python\\python313\\lib\\site-packages (from python-dateutil>=2.7->matplotlib) (1.17.0)\n"
     ]
    }
   ],
   "source": [
    "! pip install matplotlib"
   ]
  },
  {
   "cell_type": "code",
   "execution_count": 2,
   "id": "31a77667",
   "metadata": {},
   "outputs": [
    {
     "data": {
      "text/html": [
       "<div>\n",
       "<style scoped>\n",
       "    .dataframe tbody tr th:only-of-type {\n",
       "        vertical-align: middle;\n",
       "    }\n",
       "\n",
       "    .dataframe tbody tr th {\n",
       "        vertical-align: top;\n",
       "    }\n",
       "\n",
       "    .dataframe thead th {\n",
       "        text-align: right;\n",
       "    }\n",
       "</style>\n",
       "<table border=\"1\" class=\"dataframe\">\n",
       "  <thead>\n",
       "    <tr style=\"text-align: right;\">\n",
       "      <th></th>\n",
       "      <th>Open</th>\n",
       "      <th>High</th>\n",
       "      <th>Low</th>\n",
       "      <th>Close</th>\n",
       "      <th>Volume</th>\n",
       "      <th>Dividends</th>\n",
       "      <th>Stock Splits</th>\n",
       "    </tr>\n",
       "    <tr>\n",
       "      <th>Date</th>\n",
       "      <th></th>\n",
       "      <th></th>\n",
       "      <th></th>\n",
       "      <th></th>\n",
       "      <th></th>\n",
       "      <th></th>\n",
       "      <th></th>\n",
       "    </tr>\n",
       "  </thead>\n",
       "  <tbody>\n",
       "    <tr>\n",
       "      <th>2024-11-15 00:00:00-05:00</th>\n",
       "      <td>225.855167</td>\n",
       "      <td>226.373920</td>\n",
       "      <td>223.730303</td>\n",
       "      <td>224.458542</td>\n",
       "      <td>47923700</td>\n",
       "      <td>0.00</td>\n",
       "      <td>0.0</td>\n",
       "    </tr>\n",
       "    <tr>\n",
       "      <th>2024-11-18 00:00:00-05:00</th>\n",
       "      <td>224.707930</td>\n",
       "      <td>229.187130</td>\n",
       "      <td>224.628120</td>\n",
       "      <td>227.471268</td>\n",
       "      <td>44686000</td>\n",
       "      <td>0.00</td>\n",
       "      <td>0.0</td>\n",
       "    </tr>\n",
       "    <tr>\n",
       "      <th>2024-11-19 00:00:00-05:00</th>\n",
       "      <td>226.433777</td>\n",
       "      <td>229.606133</td>\n",
       "      <td>226.114555</td>\n",
       "      <td>227.730652</td>\n",
       "      <td>36211800</td>\n",
       "      <td>0.00</td>\n",
       "      <td>0.0</td>\n",
       "    </tr>\n",
       "    <tr>\n",
       "      <th>2024-11-20 00:00:00-05:00</th>\n",
       "      <td>227.511173</td>\n",
       "      <td>229.376668</td>\n",
       "      <td>225.346397</td>\n",
       "      <td>228.448914</td>\n",
       "      <td>35169600</td>\n",
       "      <td>0.00</td>\n",
       "      <td>0.0</td>\n",
       "    </tr>\n",
       "    <tr>\n",
       "      <th>2024-11-21 00:00:00-05:00</th>\n",
       "      <td>228.329212</td>\n",
       "      <td>229.606130</td>\n",
       "      <td>225.166842</td>\n",
       "      <td>227.970078</td>\n",
       "      <td>42108300</td>\n",
       "      <td>0.00</td>\n",
       "      <td>0.0</td>\n",
       "    </tr>\n",
       "    <tr>\n",
       "      <th>...</th>\n",
       "      <td>...</td>\n",
       "      <td>...</td>\n",
       "      <td>...</td>\n",
       "      <td>...</td>\n",
       "      <td>...</td>\n",
       "      <td>...</td>\n",
       "      <td>...</td>\n",
       "    </tr>\n",
       "    <tr>\n",
       "      <th>2025-05-08 00:00:00-04:00</th>\n",
       "      <td>197.461064</td>\n",
       "      <td>199.788014</td>\n",
       "      <td>194.425036</td>\n",
       "      <td>197.231369</td>\n",
       "      <td>50478900</td>\n",
       "      <td>0.00</td>\n",
       "      <td>0.0</td>\n",
       "    </tr>\n",
       "    <tr>\n",
       "      <th>2025-05-09 00:00:00-04:00</th>\n",
       "      <td>198.739390</td>\n",
       "      <td>200.277366</td>\n",
       "      <td>197.281295</td>\n",
       "      <td>198.270004</td>\n",
       "      <td>36453900</td>\n",
       "      <td>0.00</td>\n",
       "      <td>0.0</td>\n",
       "    </tr>\n",
       "    <tr>\n",
       "      <th>2025-05-12 00:00:00-04:00</th>\n",
       "      <td>210.970001</td>\n",
       "      <td>211.270004</td>\n",
       "      <td>206.750000</td>\n",
       "      <td>210.789993</td>\n",
       "      <td>63775800</td>\n",
       "      <td>0.26</td>\n",
       "      <td>0.0</td>\n",
       "    </tr>\n",
       "    <tr>\n",
       "      <th>2025-05-13 00:00:00-04:00</th>\n",
       "      <td>210.429993</td>\n",
       "      <td>213.399994</td>\n",
       "      <td>209.000000</td>\n",
       "      <td>212.929993</td>\n",
       "      <td>51909300</td>\n",
       "      <td>0.00</td>\n",
       "      <td>0.0</td>\n",
       "    </tr>\n",
       "    <tr>\n",
       "      <th>2025-05-14 00:00:00-04:00</th>\n",
       "      <td>212.425003</td>\n",
       "      <td>213.940002</td>\n",
       "      <td>210.580093</td>\n",
       "      <td>212.330002</td>\n",
       "      <td>49117576</td>\n",
       "      <td>0.00</td>\n",
       "      <td>0.0</td>\n",
       "    </tr>\n",
       "  </tbody>\n",
       "</table>\n",
       "<p>122 rows × 7 columns</p>\n",
       "</div>"
      ],
      "text/plain": [
       "                                 Open        High         Low       Close  \\\n",
       "Date                                                                        \n",
       "2024-11-15 00:00:00-05:00  225.855167  226.373920  223.730303  224.458542   \n",
       "2024-11-18 00:00:00-05:00  224.707930  229.187130  224.628120  227.471268   \n",
       "2024-11-19 00:00:00-05:00  226.433777  229.606133  226.114555  227.730652   \n",
       "2024-11-20 00:00:00-05:00  227.511173  229.376668  225.346397  228.448914   \n",
       "2024-11-21 00:00:00-05:00  228.329212  229.606130  225.166842  227.970078   \n",
       "...                               ...         ...         ...         ...   \n",
       "2025-05-08 00:00:00-04:00  197.461064  199.788014  194.425036  197.231369   \n",
       "2025-05-09 00:00:00-04:00  198.739390  200.277366  197.281295  198.270004   \n",
       "2025-05-12 00:00:00-04:00  210.970001  211.270004  206.750000  210.789993   \n",
       "2025-05-13 00:00:00-04:00  210.429993  213.399994  209.000000  212.929993   \n",
       "2025-05-14 00:00:00-04:00  212.425003  213.940002  210.580093  212.330002   \n",
       "\n",
       "                             Volume  Dividends  Stock Splits  \n",
       "Date                                                          \n",
       "2024-11-15 00:00:00-05:00  47923700       0.00           0.0  \n",
       "2024-11-18 00:00:00-05:00  44686000       0.00           0.0  \n",
       "2024-11-19 00:00:00-05:00  36211800       0.00           0.0  \n",
       "2024-11-20 00:00:00-05:00  35169600       0.00           0.0  \n",
       "2024-11-21 00:00:00-05:00  42108300       0.00           0.0  \n",
       "...                             ...        ...           ...  \n",
       "2025-05-08 00:00:00-04:00  50478900       0.00           0.0  \n",
       "2025-05-09 00:00:00-04:00  36453900       0.00           0.0  \n",
       "2025-05-12 00:00:00-04:00  63775800       0.26           0.0  \n",
       "2025-05-13 00:00:00-04:00  51909300       0.00           0.0  \n",
       "2025-05-14 00:00:00-04:00  49117576       0.00           0.0  \n",
       "\n",
       "[122 rows x 7 columns]"
      ]
     },
     "execution_count": 2,
     "metadata": {},
     "output_type": "execute_result"
    }
   ],
   "source": [
    "import yfinance\n",
    "yfinance.Ticker(\"AAPL\").history(\"6mo\")"
   ]
  },
  {
   "cell_type": "code",
   "execution_count": 3,
   "id": "5b362336",
   "metadata": {},
   "outputs": [],
   "source": [
    "import matplotlib"
   ]
  },
  {
   "cell_type": "code",
   "execution_count": 5,
   "id": "609fbc93",
   "metadata": {},
   "outputs": [
    {
     "data": {
      "text/plain": [
       "<Axes: xlabel='Date'>"
      ]
     },
     "execution_count": 5,
     "metadata": {},
     "output_type": "execute_result"
    },
    {
     "data": {
      "image/png": "[encoded data removed]",
      "text/plain": [
       "<Figure size 640x480 with 1 Axes>"
      ]
     },
     "metadata": {},
     "output_type": "display_data"
    }
   ],
   "source": [
    "data = yfinance.Ticker(\"AAPL\").history(\"6mo\")\n",
    "data # muestra valor de data\n",
    "cierre = data.Close\n",
    "cierre.plot() #muestra un gráfico de linea"
   ]
  },
  {
   "cell_type": "code",
   "execution_count": 6,
   "id": "0417a77a",
   "metadata": {},
   "outputs": [
    {
     "data": {
      "text/plain": [
       "Date\n",
       "2024-11-15 00:00:00-05:00    224.458542\n",
       "2024-11-18 00:00:00-05:00    227.471283\n",
       "2024-11-19 00:00:00-05:00    227.730652\n",
       "2024-11-20 00:00:00-05:00    228.448914\n",
       "2024-11-21 00:00:00-05:00    227.970078\n",
       "                                ...    \n",
       "2025-05-08 00:00:00-04:00    197.231369\n",
       "2025-05-09 00:00:00-04:00    198.270004\n",
       "2025-05-12 00:00:00-04:00    210.789993\n",
       "2025-05-13 00:00:00-04:00    212.929993\n",
       "2025-05-14 00:00:00-04:00    212.330002\n",
       "Name: Close, Length: 122, dtype: float64"
      ]
     },
     "execution_count": 6,
     "metadata": {},
     "output_type": "execute_result"
    }
   ],
   "source": [
    "data.High #valor más alto\n",
    "data.Open # valor de apertura\n",
    "data.Close # valor de cierre"
   ]
  },
  {
   "cell_type": "code",
   "execution_count": 8,
   "id": "d7b49a50",
   "metadata": {},
   "outputs": [
    {
     "data": {
      "text/plain": [
       "<Axes: xlabel='Date'>"
      ]
     },
     "execution_count": 8,
     "metadata": {},
     "output_type": "execute_result"
    },
    {
     "data": {
      "image/png": "[encoded data removed]",
      "text/plain": [
       "<Figure size 640x480 with 1 Axes>"
      ]
     },
     "metadata": {},
     "output_type": "display_data"
    }
   ],
   "source": [
    "ticker = input(\"Digita código de la acción: \") \n",
    "data = yfinance.Ticker(ticker).history(\"6mo\")\n",
    "cierre = data.Close\n",
    "cierre.plot()"
   ]
  },
  {
   "cell_type": "markdown",
   "id": "eed61e66",
   "metadata": {},
   "source": [
    "## Crear los análisis solicitados"
   ]
  },
  {
   "cell_type": "code",
   "execution_count": 9,
   "id": "053fcfe2",
   "metadata": {},
   "outputs": [
    {
     "data": {
      "text/plain": [
       "np.float64(226.75)"
      ]
     },
     "execution_count": 9,
     "metadata": {},
     "output_type": "execute_result"
    }
   ],
   "source": [
    "cierre\n",
    "\n",
    "round(cierre.max(), 2)\n",
    "#shirt + (\n",
    "round(cierre.min(), 2)\n",
    "round(cierre.mean(), 2) # media"
   ]
  },
  {
   "cell_type": "code",
   "execution_count": 10,
   "id": "17116ea5",
   "metadata": {},
   "outputs": [
    {
     "name": "stdout",
     "output_type": "stream",
     "text": [
      "258.4\n",
      "172.19\n",
      "226.75\n"
     ]
    }
   ],
   "source": [
    "maxima = round(cierre.max(), 2)\n",
    "minima = round(cierre.min(), 2)\n",
    "valor_medio = round(cierre.mean(), 2) # media\n",
    "print(maxima)\n",
    "print(minima)\n",
    "print(valor_medio)\n",
    "\n"
   ]
  },
  {
   "cell_type": "markdown",
   "id": "53305880",
   "metadata": {},
   "source": [
    "## Enviar E-mail automáticamente"
   ]
  },
  {
   "cell_type": "code",
   "execution_count": 11,
   "id": "d8e9200c",
   "metadata": {},
   "outputs": [
    {
     "name": "stdout",
     "output_type": "stream",
     "text": [
      "Requirement already satisfied: pyautogui in c:\\users\\hp\\appdata\\local\\programs\\python\\python313\\lib\\site-packages (0.9.54)\n",
      "Requirement already satisfied: pymsgbox in c:\\users\\hp\\appdata\\local\\programs\\python\\python313\\lib\\site-packages (from pyautogui) (1.0.9)\n",
      "Requirement already satisfied: pytweening>=1.0.4 in c:\\users\\hp\\appdata\\local\\programs\\python\\python313\\lib\\site-packages (from pyautogui) (1.2.0)\n",
      "Requirement already satisfied: pyscreeze>=0.1.21 in c:\\users\\hp\\appdata\\local\\programs\\python\\python313\\lib\\site-packages (from pyautogui) (1.0.1)\n",
      "Requirement already satisfied: pygetwindow>=0.0.5 in c:\\users\\hp\\appdata\\local\\programs\\python\\python313\\lib\\site-packages (from pyautogui) (0.0.9)\n",
      "Requirement already satisfied: mouseinfo in c:\\users\\hp\\appdata\\local\\programs\\python\\python313\\lib\\site-packages (from pyautogui) (0.1.3)\n",
      "Requirement already satisfied: pyrect in c:\\users\\hp\\appdata\\local\\programs\\python\\python313\\lib\\site-packages (from pygetwindow>=0.0.5->pyautogui) (0.2.0)\n",
      "Requirement already satisfied: pyperclip in c:\\users\\hp\\appdata\\local\\programs\\python\\python313\\lib\\site-packages (from mouseinfo->pyautogui) (1.9.0)\n"
     ]
    }
   ],
   "source": [
    "! pip install pyautogui"
   ]
  },
  {
   "cell_type": "code",
   "execution_count": 12,
   "id": "c8018bb8",
   "metadata": {},
   "outputs": [
    {
     "name": "stdout",
     "output_type": "stream",
     "text": [
      "Requirement already satisfied: pyperclip in c:\\users\\hp\\appdata\\local\\programs\\python\\python313\\lib\\site-packages (1.9.0)\n"
     ]
    }
   ],
   "source": [
    "! pip install pyperclip"
   ]
  },
  {
   "cell_type": "code",
   "execution_count": 13,
   "id": "6a527324",
   "metadata": {},
   "outputs": [],
   "source": [
    "import pyautogui\n",
    "import pyperclip\n",
    "import webbrowser\n",
    "import time"
   ]
  },
  {
   "cell_type": "code",
   "execution_count": null,
   "id": "8ef23dbf",
   "metadata": {},
   "outputs": [],
   "source": [
    "destinatario = \"erikaceciliaochoa@gmail.com\"\n",
    "asunto = \"Análisis acciones últimos 6 meses\" \n",
    "mensaje = f\"\"\"\n",
    "Hola Zai,\n",
    "Accá te envio el analisis de las acciones de los últimos 6 meses de {ticker}:\n",
    "Cotización máxima: USD {maxima}\n",
    "Cotización mínima: USD {minima}\n",
    "Valor medio : USD {valor_medio}\n",
    "\n",
    "Cualquier cosa me cuentas.\n",
    "\n",
    "Erika\n",
    "\"\"\""
   ]
  },
  {
   "cell_type": "code",
   "execution_count": 20,
   "id": "70ba8622",
   "metadata": {},
   "outputs": [],
   "source": [
    "webbrowser.open(\"https://mail.google.com/mail/u/0/?tab=rm&ogbl#inbox\")\n",
    "#ctrl + enter #abre la pagina\n",
    "\n",
    "time.sleep(3) #3 segundos\n",
    "\n",
    "#pyautogui.click()\n",
    "pyautogui.PAUSE = 3\n",
    "pyautogui.click(84, 183)\n",
    "\n",
    "pyperclip.copy(destinatario)\n",
    "pyautogui.hotkey(\"ctrl\", \"v\")\n",
    "pyautogui.hotkey(\"tab\")\n",
    "\n",
    "pyperclip.copy(asunto)\n",
    "pyautogui.hotkey(\"ctrl\", \"v\")\n",
    "pyautogui.hotkey(\"tab\")\n",
    "\n",
    "pyperclip.copy(mensaje)\n",
    "pyautogui.hotkey(\"ctrl\", \"v\")\n",
    "\n",
    "pyautogui.click(859, 697)\n",
    "pyautogui.hotkey(\"ctrl\", \"f4\")"
   ]
  },
  {
   "cell_type": "markdown",
   "id": "fabce6dc",
   "metadata": {},
   "source": [
    "### coordenadas del botón"
   ]
  },
  {
   "cell_type": "code",
   "execution_count": 19,
   "id": "f01673ab",
   "metadata": {},
   "outputs": [
    {
     "data": {
      "text/plain": [
       "Point(x=859, y=697)"
      ]
     },
     "execution_count": 19,
     "metadata": {},
     "output_type": "execute_result"
    }
   ],
   "source": [
    "time.sleep(8)\n",
    "pyautogui.position() #coordenada de mi boton"
   ]
  }
 ],
 "metadata": {
  "kernelspec": {
   "display_name": "Python 3",
   "language": "python",
   "name": "python3"
  },
  "language_info": {
   "codemirror_mode": {
    "name": "ipython",
    "version": 3
   },
   "file_extension": ".py",
   "mimetype": "text/x-python",
   "name": "python",
   "nbconvert_exporter": "python",
   "pygments_lexer": "ipython3",
   "version": "3.13.3"
  }
 },
 "nbformat": 4,
 "nbformat_minor": 5
}
